{
 "cells": [
  {
   "cell_type": "code",
   "execution_count": 1,
   "metadata": {},
   "outputs": [
    {
     "name": "stderr",
     "output_type": "stream",
     "text": [
      "Using TensorFlow backend.\n"
     ]
    }
   ],
   "source": [
    "from keras.models import Sequential\n",
    "from keras.layers import Dense \n",
    "from keras.optimizers import Adam, SGD\n",
    "\n",
    "%matplotlib inline\n",
    "import matplotlib.pyplot as plt\n",
    "import numpy as np\n",
    "import pandas as pd"
   ]
  },
  {
   "cell_type": "code",
   "execution_count": 2,
   "metadata": {},
   "outputs": [],
   "source": [
    "df=pd.read_csv('weight-height.csv')"
   ]
  },
  {
   "cell_type": "code",
   "execution_count": 3,
   "metadata": {},
   "outputs": [],
   "source": [
    "X=df[['Height']].values\n",
    "y_true=df[['Weight']].values"
   ]
  },
  {
   "cell_type": "code",
   "execution_count": 4,
   "metadata": {},
   "outputs": [
    {
     "data": {
      "text/plain": [
       "array([[73.84701702],\n",
       "       [68.78190405],\n",
       "       [74.11010539],\n",
       "       ...,\n",
       "       [63.86799221],\n",
       "       [69.03424313],\n",
       "       [61.94424588]])"
      ]
     },
     "execution_count": 4,
     "metadata": {},
     "output_type": "execute_result"
    }
   ],
   "source": [
    "X"
   ]
  },
  {
   "cell_type": "code",
   "execution_count": 5,
   "metadata": {},
   "outputs": [
    {
     "name": "stdout",
     "output_type": "stream",
     "text": [
      "WARNING:tensorflow:From C:\\ProgramData\\Anaconda3\\lib\\site-packages\\tensorflow\\python\\ops\\resource_variable_ops.py:435: colocate_with (from tensorflow.python.framework.ops) is deprecated and will be removed in a future version.\n",
      "Instructions for updating:\n",
      "Colocations handled automatically by placer.\n"
     ]
    }
   ],
   "source": [
    "model = Sequential()\n",
    "model.add(Dense(1, input_shape=(1,)))"
   ]
  },
  {
   "cell_type": "code",
   "execution_count": 6,
   "metadata": {},
   "outputs": [
    {
     "name": "stdout",
     "output_type": "stream",
     "text": [
      "Model: \"sequential_1\"\n",
      "_________________________________________________________________\n",
      "Layer (type)                 Output Shape              Param #   \n",
      "=================================================================\n",
      "dense_1 (Dense)              (None, 1)                 2         \n",
      "=================================================================\n",
      "Total params: 2\n",
      "Trainable params: 2\n",
      "Non-trainable params: 0\n",
      "_________________________________________________________________\n"
     ]
    }
   ],
   "source": [
    "model.summary()"
   ]
  },
  {
   "cell_type": "code",
   "execution_count": 7,
   "metadata": {},
   "outputs": [],
   "source": [
    "model.compile(Adam(lr=0.8), 'mean_squared_error')"
   ]
  },
  {
   "cell_type": "code",
   "execution_count": 8,
   "metadata": {},
   "outputs": [
    {
     "name": "stdout",
     "output_type": "stream",
     "text": [
      "WARNING:tensorflow:From C:\\ProgramData\\Anaconda3\\lib\\site-packages\\tensorflow\\python\\ops\\math_ops.py:3066: to_int32 (from tensorflow.python.ops.math_ops) is deprecated and will be removed in a future version.\n",
      "Instructions for updating:\n",
      "Use tf.cast instead.\n",
      "Epoch 1/40\n",
      "10000/10000 [==============================] - 1s 105us/step - loss: 997.7533\n",
      "Epoch 2/40\n",
      "10000/10000 [==============================] - 0s 23us/step - loss: 566.9750\n",
      "Epoch 3/40\n",
      "10000/10000 [==============================] - 0s 24us/step - loss: 524.4680\n",
      "Epoch 4/40\n",
      "10000/10000 [==============================] - 0s 23us/step - loss: 485.5860\n",
      "Epoch 5/40\n",
      "10000/10000 [==============================] - 0s 23us/step - loss: 437.5711\n",
      "Epoch 6/40\n",
      "10000/10000 [==============================] - 0s 23us/step - loss: 393.3845\n",
      "Epoch 7/40\n",
      "10000/10000 [==============================] - 0s 24us/step - loss: 363.3587\n",
      "Epoch 8/40\n",
      "10000/10000 [==============================] - 0s 30us/step - loss: 327.2219\n",
      "Epoch 9/40\n",
      "10000/10000 [==============================] - 0s 28us/step - loss: 308.3091\n",
      "Epoch 10/40\n",
      "10000/10000 [==============================] - 0s 24us/step - loss: 280.6232\n",
      "Epoch 11/40\n",
      "10000/10000 [==============================] - 0s 25us/step - loss: 246.6073\n",
      "Epoch 12/40\n",
      "10000/10000 [==============================] - 0s 26us/step - loss: 241.0623\n",
      "Epoch 13/40\n",
      "10000/10000 [==============================] - 0s 31us/step - loss: 218.9849\n",
      "Epoch 14/40\n",
      "10000/10000 [==============================] - 0s 23us/step - loss: 218.3483\n",
      "Epoch 15/40\n",
      "10000/10000 [==============================] - 0s 26us/step - loss: 204.1072\n",
      "Epoch 16/40\n",
      "10000/10000 [==============================] - 0s 25us/step - loss: 198.9392\n",
      "Epoch 17/40\n",
      "10000/10000 [==============================] - 0s 28us/step - loss: 202.7158\n",
      "Epoch 18/40\n",
      "10000/10000 [==============================] - 0s 28us/step - loss: 194.1606\n",
      "Epoch 19/40\n",
      "10000/10000 [==============================] - 0s 24us/step - loss: 183.6767\n",
      "Epoch 20/40\n",
      "10000/10000 [==============================] - 0s 24us/step - loss: 196.7250\n",
      "Epoch 21/40\n",
      "10000/10000 [==============================] - 0s 25us/step - loss: 189.1465\n",
      "Epoch 22/40\n",
      "10000/10000 [==============================] - 0s 31us/step - loss: 174.6508\n",
      "Epoch 23/40\n",
      "10000/10000 [==============================] - 0s 25us/step - loss: 183.3115\n",
      "Epoch 24/40\n",
      "10000/10000 [==============================] - 0s 24us/step - loss: 182.1484\n",
      "Epoch 25/40\n",
      "10000/10000 [==============================] - 0s 24us/step - loss: 174.4958\n",
      "Epoch 26/40\n",
      "10000/10000 [==============================] - 0s 29us/step - loss: 190.9404\n",
      "Epoch 27/40\n",
      "10000/10000 [==============================] - 0s 27us/step - loss: 185.4467\n",
      "Epoch 28/40\n",
      "10000/10000 [==============================] - 0s 22us/step - loss: 175.8011\n",
      "Epoch 29/40\n",
      "10000/10000 [==============================] - 0s 26us/step - loss: 169.0517\n",
      "Epoch 30/40\n",
      "10000/10000 [==============================] - 0s 23us/step - loss: 192.6361\n",
      "Epoch 31/40\n",
      "10000/10000 [==============================] - 0s 23us/step - loss: 177.2116\n",
      "Epoch 32/40\n",
      "10000/10000 [==============================] - 0s 24us/step - loss: 166.8393\n",
      "Epoch 33/40\n",
      "10000/10000 [==============================] - 0s 24us/step - loss: 168.9057\n",
      "Epoch 34/40\n",
      "10000/10000 [==============================] - 0s 23us/step - loss: 178.5387\n",
      "Epoch 35/40\n",
      "10000/10000 [==============================] - 0s 23us/step - loss: 175.6292\n",
      "Epoch 36/40\n",
      "10000/10000 [==============================] - 0s 22us/step - loss: 179.0737\n",
      "Epoch 37/40\n",
      "10000/10000 [==============================] - 0s 23us/step - loss: 179.4890\n",
      "Epoch 38/40\n",
      "10000/10000 [==============================] - 0s 24us/step - loss: 168.5267\n",
      "Epoch 39/40\n",
      "10000/10000 [==============================] - 0s 24us/step - loss: 177.5055\n",
      "Epoch 40/40\n",
      "10000/10000 [==============================] - 0s 23us/step - loss: 192.2898\n"
     ]
    },
    {
     "data": {
      "text/plain": [
       "<keras.callbacks.callbacks.History at 0x1fad26b4710>"
      ]
     },
     "execution_count": 8,
     "metadata": {},
     "output_type": "execute_result"
    }
   ],
   "source": [
    "model.fit(X,y_true, epochs=40)"
   ]
  },
  {
   "cell_type": "code",
   "execution_count": 9,
   "metadata": {},
   "outputs": [],
   "source": [
    "y_pred=model.predict(X)"
   ]
  },
  {
   "cell_type": "code",
   "execution_count": 10,
   "metadata": {},
   "outputs": [
    {
     "data": {
      "text/plain": [
       "[<matplotlib.lines.Line2D at 0x1fad289d8d0>]"
      ]
     },
     "execution_count": 10,
     "metadata": {},
     "output_type": "execute_result"
    },
    {
     "data": {
      "image/png": "[encoded data removed]",
      "text/plain": [
       "<Figure size 432x288 with 1 Axes>"
      ]
     },
     "metadata": {
      "needs_background": "light"
     },
     "output_type": "display_data"
    }
   ],
   "source": [
    "df.plot(kind='scatter',\n",
    "       x='Height',\n",
    "       y='Weight', title='Weight and Height in adults')\n",
    "plt.plot(X, y_pred, color='red', linewidth=3)"
   ]
  },
  {
   "cell_type": "code",
   "execution_count": 11,
   "metadata": {},
   "outputs": [],
   "source": [
    "w,b=model.get_weights()"
   ]
  },
  {
   "cell_type": "code",
   "execution_count": 12,
   "metadata": {},
   "outputs": [
    {
     "data": {
      "text/plain": [
       "array([[7.563673]], dtype=float32)"
      ]
     },
     "execution_count": 12,
     "metadata": {},
     "output_type": "execute_result"
    }
   ],
   "source": [
    "w"
   ]
  },
  {
   "cell_type": "code",
   "execution_count": 13,
   "metadata": {},
   "outputs": [
    {
     "data": {
      "text/plain": [
       "array([-348.1641], dtype=float32)"
      ]
     },
     "execution_count": 13,
     "metadata": {},
     "output_type": "execute_result"
    }
   ],
   "source": [
    "b"
   ]
  },
  {
   "cell_type": "code",
   "execution_count": null,
   "metadata": {},
   "outputs": [],
   "source": []
  }
 ],
 "metadata": {
  "kernelspec": {
   "display_name": "Python 3",
   "language": "python",
   "name": "python3"
  },
  "language_info": {
   "codemirror_mode": {
    "name": "ipython",
    "version": 3
   },
   "file_extension": ".py",
   "mimetype": "text/x-python",
   "name": "python",
   "nbconvert_exporter": "python",
   "pygments_lexer": "ipython3",
   "version": "3.7.3"
  }
 },
 "nbformat": 4,
 "nbformat_minor": 2
}
